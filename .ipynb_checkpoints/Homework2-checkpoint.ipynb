{
 "cells": [
  {
   "cell_type": "code",
   "execution_count": 1,
   "id": "bd8d4820",
   "metadata": {},
   "outputs": [],
   "source": [
    "import numpy as np\n",
    "import pandas as pd\n",
    "import matplotlib.pyplot as plt\n",
    "plt.style.use('ggplot')\n",
    "from scipy.integrate import solve_ivp"
   ]
  },
  {
   "cell_type": "markdown",
   "id": "d7272c65",
   "metadata": {},
   "source": [
    "# **M E 564 Au 2022**\n",
    "# Homework 2"
   ]
  },
  {
   "cell_type": "markdown",
   "id": "440e4f42",
   "metadata": {},
   "source": [
    "### __Equation Bank__:\n",
    "(not all equations used in each homework) <br>\n",
    "$(fg)'=fg'+gf'$ <br> $((f(x))^n)'=n(f(x))^{n-1}\\cdot f'(x)$ <br> $(f(g(x))'=f'(g(x))g'(x)$ <br> $\\frac{dz}{dt}=\\frac{\\partial z}{\\partial x} \\cdot \\frac{dx}{dt} + \\frac{\\partial z}{\\partial y} \\cdot \\frac{dy}{dt}$ <br> $f(x) = f(0) + f'(0)x + \\frac{f''(0)}{2!}x^2 + \\frac{f^{(3)}(0)}{3!}x^3 + ... + \\frac{f^{(n)}(0)}{n!}x^n + ... $ *Maclaurin Series* <br> $e^{i\\phi}=\\cos{\\phi}+i\\sin{\\phi}$ *Euler's Formula* <br><br>"
   ]
  },
  {
   "cell_type": "markdown",
   "id": "ca51530e",
   "metadata": {},
   "source": [
    "---\n",
    "## Exercise 2-1:\n",
    "Please solve the following differential equation (by hand) and describe the longtime behavior of the system:"
   ]
  },
  {
   "cell_type": "markdown",
   "id": "a84485ac",
   "metadata": {},
   "source": [
    "**(a)** $\\ddot{x}+4\\dot{x}+3x=0$ where $x(0)=0$ and $\\dot{x}(0)=4$ <br> \n",
    "\n",
    "Trying $x(t)=e^{\\lambda t}$ so $\\dot{x}(t)=\\lambda e^{\\lambda t}$ and $\\ddot{x}(t)=\\lambda^2 e^{\\lambda t}$ <br>\n",
    "\n",
    "$\\lambda^2 e^{\\lambda t} + 4\\lambda e^{\\lambda t} + 3e^{\\lambda t} = 0 = (\\lambda^2 + 4\\lambda + 3)e^{\\lambda t} =$ *Characteristic Equation* <br>\n",
    ">$\\lambda_1 = -3, \\lambda_2 = -1$ <br>\n",
    "\n",
    "$x(t) = C_1 e^{\\lambda_1 t} + C_2 e^{\\lambda_2 t} = C_1 e^{-3t} + C_2 e^{-1t}$ <br>\n",
    ">$x(0) = C_1 + C_2 = 0$ \n",
    "\n",
    "$\\dot{x}(t) = \\lambda_1 C_1 e^{\\lambda_1 t} + \\lambda_2 C_2 e^{\\lambda_2 t} = -3 C_1 e^{-3t} - C_2 e^{-1t}$\n",
    ">$\\dot{x}(0) = -3 C_1 - C_2 = 4 $\n",
    ">>$C_1 = -2, C_2 = 2 $ \n",
    "\n",
    "$x(t) = -2 e^{-3t} + 2 e^{-1t}$\n",
    "\n",
    "Since all exponents are negative, this equation is 'stable' and will decay to 0 for all time."
   ]
  },
  {
   "cell_type": "markdown",
   "id": "b5a79df1",
   "metadata": {},
   "source": [
    "**(b)** $\\ddot{x}-4x=0$ where $x(0)=4$ and $\\dot{x}(0)=-4$ <br> \n",
    "\n",
    "Trying $x(t)=e^{\\lambda t}$ so $\\dot{x}(t)=\\lambda e^{\\lambda t}$ and $\\ddot{x}(t)=\\lambda^2 e^{\\lambda t}$ <br>"
   ]
  },
  {
   "cell_type": "markdown",
   "id": "02cb082b",
   "metadata": {},
   "source": [
    "$\\lambda^2 e^{\\lambda t} - 4 e^{\\lambda t} = 0 = (\\lambda^2 - 4)e^{\\lambda t} =$ *Characteristic Equation* <br>\n",
    ">$\\lambda_1 = 2, \\lambda_2 = -2$ <br>"
   ]
  },
  {
   "cell_type": "markdown",
   "id": "ad813632",
   "metadata": {},
   "source": [
    "$x(t) = C_1 e^{\\lambda_1 t} + C_2 e^{\\lambda_2 t} = C_1 e^{2t} + C_2 e^{-2t}$ <br>\n",
    ">$x(0) = C_1 + C_2 = 4$"
   ]
  },
  {
   "cell_type": "markdown",
   "id": "23026cb8",
   "metadata": {},
   "source": [
    "$\\dot{x}(t) = \\lambda_1 C_1 e^{\\lambda_1 t} + \\lambda_2 C_2 e^{\\lambda_2 t} = 2 C_1 e^{2t} - 2 C_2 e^{-2t}$\n",
    ">$\\dot{x}(0) = 2 C_1 - 2 C_2 = -4 $\n",
    ">>$C_1 = 1, C_2 = 3$"
   ]
  },
  {
   "cell_type": "markdown",
   "id": "c7244e26",
   "metadata": {},
   "source": [
    "$x(t) = 2 e^{2t} - 6 e^{-2t}$"
   ]
  },
  {
   "cell_type": "markdown",
   "id": "ee61d077",
   "metadata": {},
   "source": [
    "Since at least one exponent is positive, this equation is 'unstable' and will increase to inifinity for all time."
   ]
  },
  {
   "cell_type": "markdown",
   "id": "31de5f34",
   "metadata": {},
   "source": [
    "---\n",
    "## Exercise 2-2:\n",
    "Write down the second-order differential equation $\\ddot{x} + K_1\\dot{x} + K_2x = 0$ that\n",
    "has eigenvalues $\\lambda = C$ and $\\lambda = D$. If the solution is $x(t) = Ae^{Ct} + Be^{Dt}$, what are the initial\n",
    "conditions?"
   ]
  },
  {
   "cell_type": "markdown",
   "id": "d6111d3c",
   "metadata": {},
   "source": [
    "Trying $x(t)=e^{\\lambda t}$ so $\\dot{x}(t)=\\lambda e^{\\lambda t}$ and $\\ddot{x}(t)=\\lambda^2 e^{\\lambda t}$ <br>"
   ]
  },
  {
   "cell_type": "markdown",
   "id": "01c30e11",
   "metadata": {},
   "source": [
    "$\\lambda^2 e^{\\lambda t} + K_1 \\lambda e^{\\lambda t} + K_2 e^{\\lambda t} = 0 = (\\lambda^2 + K_1 \\lambda + K_2)e^{\\lambda t} =$ *Characteristic Equation* <br>\n",
    ">*given* $\\lambda = C, \\lambda = D$\n",
    ">>$(\\lambda-C)(\\lambda-D)=0$ <br>\n",
    ">>$\\lambda^2-C\\lambda-D\\lambda+CD=0$ <br>\n",
    ">>$\\lambda^2+(-C-D)\\lambda+CD=0$\n",
    "\n",
    ">> $K_1=-C-D, K_2=CD$"
   ]
  },
  {
   "cell_type": "markdown",
   "id": "9fe83d75",
   "metadata": {},
   "source": [
    "$x(t) = C_1 e^{\\lambda_1 t} + C_2 e^{\\lambda_2 t} = C_1 e^{Ct} + C_2 e^{Dt} == A e^{Ct} + B e^{Dt}$ <br>\n",
    ">$x(0) = C_1 + C_2 = ? == A + B$"
   ]
  },
  {
   "cell_type": "markdown",
   "id": "2aeacd56",
   "metadata": {},
   "source": [
    "$\\dot{x}(t) = \\lambda_1 C_1 e^{\\lambda_1 t} + \\lambda_2 C_2 e^{\\lambda_2 t} = C C_1 e^{Ct} + D C_2 e^{Dt} == C A e^{Ct} + D B e^{Dt}$\n",
    ">$\\dot{x}(0) = C C_1 + D C_2 = ?? == C A + D B$\n",
    ">>*given* $C_1 = A, C_2 = B$"
   ]
  },
  {
   "cell_type": "markdown",
   "id": "7ffd2df1",
   "metadata": {},
   "source": [
    "---\n",
    "## Exercise 2-3:\n",
    "Consider the following ODE: $$\\ddot{x} + 7\\dot{x} + 10x = 0$$"
   ]
  },
  {
   "cell_type": "markdown",
   "id": "baee1db9",
   "metadata": {},
   "source": [
    "**(a)** Solve this ODE by substituting in $x(t) = e^{\\lambda t}$ and finding roots of the characteristic polynomial."
   ]
  },
  {
   "cell_type": "markdown",
   "id": "57b5b335",
   "metadata": {},
   "source": [
    "$x(t)=e^{\\lambda t}$ so $\\dot{x}(t)=\\lambda e^{\\lambda t}$ and $\\ddot{x}(t)=\\lambda^2 e^{\\lambda t}$"
   ]
  },
  {
   "cell_type": "markdown",
   "id": "7f688c59",
   "metadata": {},
   "source": [
    "$\\lambda^2 e^{\\lambda t} + 7 \\lambda e^{\\lambda t} + 10 e^{\\lambda t} = 0 = (\\lambda^2 + 7 \\lambda + 10) e^{\\lambda t}$ = *Characteristic Equation*\n",
    ">$\\lambda = -5, \\lambda = -2$"
   ]
  },
  {
   "cell_type": "markdown",
   "id": "0da93eb4",
   "metadata": {},
   "source": [
    "$x(t) = C_1 e^{\\lambda t} + C_2 e^{\\lambda t} = C_1 e^{-5t} + C_2 e^{-2t} $"
   ]
  },
  {
   "cell_type": "markdown",
   "id": "2c0da4f2",
   "metadata": {},
   "source": [
    "$\\dot{x}(t) = \\lambda C_1 e^{\\lambda t} + \\lambda C_2 e^{\\lambda t} = -5 C_1 e^{-5t} - 2 C_2 e^{-2t} $"
   ]
  },
  {
   "cell_type": "markdown",
   "id": "b9987fdc",
   "metadata": {},
   "source": [
    "**(b)** Now, write this second order ODE as a system of first order equations, $\\dot{x} = Ax$, by introducing a new variable $v = \\dot{x}$. Solve the linear system by decomposing the matrix $A$ into the eigenvalues and eigenvectors. \n",
    "\n",
    "Hint: computing the inverse of the matrix of eigenvectors is easier if they are not normalized (i.e., both of my eigenvectors have integer entries)."
   ]
  },
  {
   "cell_type": "markdown",
   "id": "80d6f466",
   "metadata": {},
   "source": [
    "Using $v=\\dot{x}$\n",
    ">$\\dot{v}+7v+10=0$\n",
    "\n",
    "$\\frac{d}{dt}\\begin{bmatrix} v \\\\ \\dot{v}\\end{bmatrix} = A \\begin{bmatrix} v \\\\ \\dot{v}\\end{bmatrix}$\n",
    "\n",
    "$A = \\begin{bmatrix} 0 & 1 \\\\ -a_0 & -a_1  \\end{bmatrix} = \\begin{bmatrix} 0 & 1 \\\\ -10 & -7 \\end{bmatrix}$\n",
    "\n",
    "$A-\\lambda I = \\begin{bmatrix} -\\lambda & 1 \\\\ -10 & -\\lambda-7 \\end{bmatrix}$\n",
    "\n",
    "$det(A-\\lambda I) =$ *Characteristic Equation* $= \\lambda^2+7\\lambda+10$"
   ]
  },
  {
   "cell_type": "markdown",
   "id": "fe91425d",
   "metadata": {},
   "source": [
    "**(c)** For both of the solutions in parts (a) and (b), write down the specific solution for an initial condition $x(0) = 1$ and $\\dot{x}(0) = 1$."
   ]
  },
  {
   "cell_type": "markdown",
   "id": "6c03dbff",
   "metadata": {},
   "source": [
    "*given* $x(0) = 1$ and $\\dot{x}(0) = 1$\n",
    "\n",
    "*Characteristic Equation* $= \\lambda^2+7\\lambda+10$\n",
    ">$\\lambda = -5, \\lambda = -2$"
   ]
  },
  {
   "cell_type": "markdown",
   "id": "861e631b",
   "metadata": {},
   "source": [
    "$x(t) = C_1 e^{\\lambda t} + C_2 e^{\\lambda t} = C_1 e^{-5t} + C_2 e^{-2t}$\n",
    ">$x(0) = C_1 + C_2 = 1$"
   ]
  },
  {
   "cell_type": "markdown",
   "id": "7b60385a",
   "metadata": {},
   "source": [
    "$\\dot{x}(t) = \\lambda C_1 e^{\\lambda t} + \\lambda C_2 e^{\\lambda t} = -5 C_1 e^{-5t} - 2 C_2 e^{-2t} $\n",
    ">$\\dot{x}(0) = \\lambda C_1 + \\lambda C_2 = -5 C_1 - 2 C_2 = 1$\n",
    ">>$C_1=-1, C_2=2$\n",
    "\n",
    "$x(t) = -1 e^{-5t} + 2 e^{-2t}$"
   ]
  },
  {
   "cell_type": "markdown",
   "id": "635cc592",
   "metadata": {},
   "source": [
    "**(d)** What is the long-time behavior of this system?"
   ]
  },
  {
   "cell_type": "markdown",
   "id": "4573fb0b",
   "metadata": {},
   "source": [
    "Since all exponents are negative, this equation is 'stable' and will decay to 0 for all time."
   ]
  },
  {
   "cell_type": "markdown",
   "id": "e208a92e",
   "metadata": {},
   "source": [
    "---\n",
    "## Exercise 2-4:\n",
    "Write the following ODE as a system of first order ODEs: $$\\dddot{x} + 2\\ddot{x} - \\dot{x} - 2x = 0$$\n",
    "What are the eigenvalues of the system of ODEs? (it is OK to use a computer).\n",
    "\n",
    "What are the long-time behaviors of this system for the following two different initial conditions:\n",
    "\n",
    "$\\begin{bmatrix} x(0) \\\\ \\dot{x}(0) \\\\ \\ddot{x}(0) \\end{bmatrix} = \\begin{bmatrix} 1 \\\\ 1 \\\\ 1 \\end{bmatrix}$ and $\\begin{bmatrix} x(0) \\\\ \\dot{x}(0) \\\\ \\ddot{x}(0) \\end{bmatrix} = \\begin{bmatrix} 1 \\\\ -1 \\\\ 1 \\end{bmatrix}$\n",
    "\n",
    "Please plot the response for t=0:0.01:10 using a Runge-Kutta 4th order integrator for each\n",
    "of these initial conditions. Do the plots agree with your calculations? Please briefly explain your\n",
    "observations in 1-2 sentences."
   ]
  },
  {
   "cell_type": "markdown",
   "id": "f7214c7f",
   "metadata": {},
   "source": [
    "$x_1=x$ &emsp; $\\dot{x_1}=x_2$ <br>\n",
    "$x_2=\\dot{x}$ &emsp; $\\dot{x_2}=x_3$ <br>\n",
    "$x_3=\\dddot{x}$ &emsp; $\\dot{x_3}=-a_0x_1-a_1x_2-a_2x_3=2x_1+x_2-2x_3$ <br>"
   ]
  },
  {
   "cell_type": "markdown",
   "id": "a347534d",
   "metadata": {},
   "source": [
    "$\\underline{x} = \\begin{bmatrix} x_1 \\\\ x_2 \\\\ x_3 \\end{bmatrix}$ \n",
    "\n",
    "$\\underline{\\underline{A}} = \\begin{bmatrix} 0 & 1 & 0\\\\ 0 & 0 & 1 \\\\ -a_0 & -a_1 & -a_2 \\end{bmatrix} = \\begin{bmatrix} 0 & 1 & 0\\\\ 0 & 0 & 1 \\\\ 2 & 1 & -2 \\end{bmatrix}$ "
   ]
  },
  {
   "cell_type": "markdown",
   "id": "86a3bd03",
   "metadata": {},
   "source": [
    "$\\underline{\\dot{x}}=\\underline{\\underline{A}}\\underline{x}$"
   ]
  },
  {
   "cell_type": "markdown",
   "id": "79bc4f1e",
   "metadata": {},
   "source": [
    "$\\frac{d}{dt} \\begin{bmatrix} x_1 \\\\ x_2 \\\\ x_3 \\end{bmatrix} = \\begin{bmatrix} 0 & 1 & 0\\\\ 0 & 0 & 1 \\\\ 2 & 1 & -2 \\end{bmatrix} \\begin{bmatrix} x_1 \\\\ x_2 \\\\ x_3 \\end{bmatrix}$"
   ]
  },
  {
   "cell_type": "code",
   "execution_count": 3,
   "id": "b3b2d144",
   "metadata": {},
   "outputs": [
    {
     "name": "stdout",
     "output_type": "stream",
     "text": [
      "Eigenvalues = [-2. -1.  1.]\n",
      "Eigenvectors = [[ 0.21821789  0.57735027 -0.57735027]\n",
      " [-0.43643578 -0.57735027 -0.57735027]\n",
      " [ 0.87287156  0.57735027 -0.57735027]]\n"
     ]
    }
   ],
   "source": [
    "A = np.array([[0,1,0],\n",
    "              [0,0,1],\n",
    "              [2,1,-2]])\n",
    "eigvals, eigvecs = np.linalg.eig(A)\n",
    "print(f\"Eigenvalues = {eigvals}\")\n",
    "print(f\"Eigenvectors = {eigvecs}\")"
   ]
  },
  {
   "cell_type": "markdown",
   "id": "ef089301",
   "metadata": {},
   "source": [
    "$x(t) = C_1 e^{\\lambda_1 t} + C_2 e^{\\lambda_2 t} + C_3 e^{\\lambda_3 t} = C_1 e^{-2t} + C_2 e^{-t} + C_3 e^{t}$ <br>\n",
    "$\\dot{x}(t) = \\lambda_1 C_1 e^{\\lambda_1 t} + \\lambda_2 C_2 e^{\\lambda_2 t} + \\lambda_3 C_3 e^{\\lambda_3 t} = -2 C_1 e^{-2t} - C_2 e^{-t} + C_3 e^{t}$ <br>\n",
    "$\\ddot{x}(t) = \\lambda_1^2 C_1 e^{\\lambda_1 t} + \\lambda_2^2 C_2 e^{\\lambda_2 t} + \\lambda_3^2 C_3 e^{\\lambda_3 t} = 4 C_1 e^{-2t} + C_2 e^{-t} + C_3 e^{t}$"
   ]
  },
  {
   "cell_type": "markdown",
   "id": "ed31c617",
   "metadata": {},
   "source": [
    "given $x(0)=1, \\dot{x}(0)=1, \\ddot{x}(0)=1$\n",
    ">$x(0) = C_1 + C_2 + C_3 = 1$ <br>\n",
    ">$\\dot{x}(0) = -2 C_1 - C_2 + C_3 = 1$ <br>\n",
    ">$\\ddot{x}(0) = 4 C_1 + C_2 + C_3 = 1$\n",
    ">>$C_1 = 0, C_2 = 0, C_3 = 1$\n",
    ">>>$x(t) = e^{t}$"
   ]
  },
  {
   "cell_type": "markdown",
   "id": "d0c5ee9c",
   "metadata": {},
   "source": [
    "given $x(0)=1, \\dot{x}(0)=-1, \\ddot{x}(0)=1$\n",
    ">$x(0) = C_1 + C_2 + C_3 = 1$ <br>\n",
    ">$\\dot{x}(0) = -2 C_1 - C_2 + C_3 = -1$ <br>\n",
    ">$\\ddot{x}(0) = 4 C_1 + C_2 + C_3 = 1$\n",
    ">>$C_1 = 0, C_2 = 1, C_3 = 0$\n",
    ">>>$x(t) = e^{-t}$"
   ]
  },
  {
   "cell_type": "code",
   "execution_count": 13,
   "id": "181c9069",
   "metadata": {},
   "outputs": [
    {
     "data": {
      "text/plain": [
       "Text(0, 0.5, 'x position')"
      ]
     },
     "execution_count": 13,
     "metadata": {},
     "output_type": "execute_result"
    },
    {
     "data": {
      "image/png": "[encoded data removed]",
      "text/plain": [
       "<Figure size 432x288 with 1 Axes>"
      ]
     },
     "metadata": {},
     "output_type": "display_data"
    }
   ],
   "source": [
    "F = lambda t, x: np.dot(np.array([[0,1,0],[0,0,1],[2,1,-2]]),x)\n",
    "t_eval = np.arange(0,10.01,0.01)\n",
    "sol = solve_ivp(F,[0,10],[1,1,1],t_eval=t_eval) #RK45\n",
    "plt.plot(sol.t,sol.y[0])\n",
    "t = np.linspace(0,10,100)\n",
    "plt.plot(t,np.exp(t),'--')\n",
    "plt.title('Initial conditions 1,1,1')\n",
    "plt.xlabel(\"time\")\n",
    "plt.ylabel(\"x position\")"
   ]
  },
  {
   "cell_type": "markdown",
   "id": "13df2290",
   "metadata": {},
   "source": [
    "Plot agrees exactly with calculations, as expected is an 'unstable' function that explodes to infinity."
   ]
  },
  {
   "cell_type": "markdown",
   "id": "82b0b0f6",
   "metadata": {},
   "source": [
    "---\n",
    "## Exercise 2-5:\n",
    "Consider the system of weakly coupled pendulua (equations below). Both pendula\n",
    "are mounted to a board that is placed on rollers, so that it can move from side to side, slightly.\n",
    "$$\\ddot{\\theta_1} = -\\omega_1^2\\theta_1 + \\epsilon(\\theta_2-\\theta_1)$$\n",
    "$$\\ddot{\\theta_2} = -\\omega_2^2\\theta_2 + \\epsilon(\\theta_1-\\theta_2)$$\n",
    "Write these coupled second order linear differential equations as"
   ]
  },
  {
   "cell_type": "markdown",
   "id": "e94f923e",
   "metadata": {},
   "source": [
    "**(a)** A single fourth order ODE in $\\theta_1$"
   ]
  },
  {
   "cell_type": "markdown",
   "id": "48e6fca4",
   "metadata": {},
   "source": [
    "$\\theta_2 = \\frac{1}{\\epsilon}(\\ddot{\\theta_1} + \\omega_1^2\\theta_1) + \\theta_1$ <br>\n",
    "$\\ddot{\\theta_2} = \\frac{1}{\\epsilon}(\\theta_1^{(4)} + \\omega_1^2\\ddot{\\theta_1}) + \\ddot{\\theta_1} = -\\omega_2^2(\\frac{1}{\\epsilon}(\\ddot{\\theta_1} + \\omega_1^2\\theta_1) + \\theta_1) + \\epsilon(\\theta_1-(\\frac{1}{\\epsilon}(\\ddot{\\theta_1} + \\omega_1^2\\theta_1) + \\theta_1))$ <br>\n",
    "$\\frac{1}{\\epsilon}(\\theta_1^{(4)} + \\omega_1^2\\ddot{\\theta_1}) + \\ddot{\\theta_1} + \\omega_2^2(\\frac{1}{\\epsilon}(\\ddot{\\theta_1} + \\omega_1^2\\theta_1) + \\theta_1) - \\epsilon(\\theta_1-(\\frac{1}{\\epsilon}(\\ddot{\\theta_1} + \\omega_1^2\\theta_1) + \\theta_1)) = 0$"
   ]
  },
  {
   "cell_type": "markdown",
   "id": "7737bf2a",
   "metadata": {},
   "source": [
    "**(b)** A single fourth order ODE in $\\theta_2$"
   ]
  },
  {
   "cell_type": "markdown",
   "id": "e7f52428",
   "metadata": {},
   "source": [
    "$\\theta_1 = \\frac{1}{\\epsilon}(\\ddot{\\theta_2} + \\omega_2^2\\theta_2) + \\theta_2$ <br>\n",
    "$\\ddot{\\theta_1} = \\frac{1}{\\epsilon}(\\theta_2^{(4)} + \\omega_2^2\\ddot{\\theta_2}) + \\ddot{\\theta_2} = -\\omega_1^2(\\frac{1}{\\epsilon}(\\ddot{\\theta_2} + \\omega_2^2\\theta_2) + \\theta_2) + \\epsilon(\\theta_2-(\\frac{1}{\\epsilon}(\\ddot{\\theta_2} + \\omega_2^2\\theta_2) + \\theta_2))$ <br>\n",
    "$\\frac{1}{\\epsilon}(\\theta_2^{(4)} + \\omega_2^2\\ddot{\\theta_2}) + \\ddot{\\theta_2} + \\omega_1^2(\\frac{1}{\\epsilon}(\\ddot{\\theta_2} + \\omega_2^2\\theta_2) + \\theta_2) - \\epsilon(\\theta_2-(\\frac{1}{\\epsilon}(\\ddot{\\theta_2} + \\omega_2^2\\theta_2) + \\theta_2)) = 0$"
   ]
  },
  {
   "cell_type": "markdown",
   "id": "33c4a28c",
   "metadata": {},
   "source": [
    "**(c)** A system of four coupled linear ODEs in terms of the angular positions and velocities of each pendulum. <br> Please write this as a matrix ODE."
   ]
  },
  {
   "cell_type": "markdown",
   "id": "c250b9c7",
   "metadata": {},
   "source": [
    "$\\ddot{\\theta_1} = -\\omega_1^2\\theta_1 + \\epsilon\\theta_2-\\epsilon\\theta_1$ <br>\n",
    "$\\ddot{\\theta_2} = -\\omega_2^2\\theta_2 + \\epsilon\\theta_1-\\epsilon\\theta_2$\n",
    "\n",
    "$\\frac{d}{dt} \\begin{bmatrix} \\theta_1 \\\\ \\dot{\\theta_1} \\\\ \\theta_2 \\\\ \\dot{\\theta_2} \\end{bmatrix} = \\begin{bmatrix} 0 & 1 & 0 & 0 \\\\ (-\\omega_1^2-\\epsilon) & 0 & \\epsilon & 0 \\\\ 0 & 0 & 0 & 1 \\\\ \\epsilon & 0 & (-\\omega_2^2-\\epsilon) & 0 \\end{bmatrix} \\begin{bmatrix} \\theta_1 \\\\ \\dot{\\theta_1} \\\\ \\theta_2 \\\\ \\dot{\\theta_2} \\end{bmatrix}$"
   ]
  },
  {
   "cell_type": "markdown",
   "id": "ab290bcd",
   "metadata": {},
   "source": [
    "**(d)** Now, assume that $\\omega1 = 1$ and $\\omega2 = 1.5$. <br> \n",
    "Increase $\\epsilon$ from 0 to 0.5 (in increments of 0.005), and compute the eigenvalues of the system of equations. <br> \n",
    "Plot the two frequencies as a function of $\\epsilon$. <br> \n",
    "Now plot the difference of the two frequencies agains $\\epsilon$. Explain what you see."
   ]
  },
  {
   "cell_type": "markdown",
   "id": "544b2f42",
   "metadata": {},
   "source": [
    "$\\frac{d}{dt} \\begin{bmatrix} \\theta_1 \\\\ \\dot{\\theta_1} \\\\ \\theta_2 \\\\ \\dot{\\theta_2} \\end{bmatrix} = \\begin{bmatrix} 0 & 1 & 0 & 0 \\\\ (-1-\\epsilon) & 0 & \\epsilon & 0 \\\\ 0 & 0 & 0 & 1 \\\\ \\epsilon & 0 & (-2.25-\\epsilon) & 0 \\end{bmatrix} \\begin{bmatrix} \\theta_1 \\\\ \\dot{\\theta_1} \\\\ \\theta_2 \\\\ \\dot{\\theta_2} \\end{bmatrix}$"
   ]
  },
  {
   "cell_type": "code",
   "execution_count": 25,
   "id": "2f8c660d",
   "metadata": {},
   "outputs": [
    {
     "name": "stdout",
     "output_type": "stream",
     "text": [
      "Eigenvectors = [[ 1.29415386e-16+6.18907812e-01j  1.29415386e-16-6.18907812e-01j\n",
      "  -1.10794009e-16-1.67068920e-01j -1.10794009e-16+1.67068920e-01j]\n",
      " [-7.12311396e-01+0.00000000e+00j -7.12311396e-01-0.00000000e+00j\n",
      "   2.85750890e-01-1.24608483e-16j  2.85750890e-01+1.24608483e-16j]\n",
      " [ 5.55036451e-17+2.17101138e-01j  5.55036451e-17-2.17101138e-01j\n",
      "  -7.77397750e-17+4.76276914e-01j -7.77397750e-17-4.76276914e-01j]\n",
      " [-2.49865346e-01-1.09781496e-17j -2.49865346e-01+1.09781496e-17j\n",
      "  -8.14613225e-01+0.00000000e+00j -8.14613225e-01-0.00000000e+00j]]\n"
     ]
    },
    {
     "data": {
      "image/png": "[encoded data removed]",
      "text/plain": [
       "<Figure size 432x288 with 1 Axes>"
      ]
     },
     "metadata": {},
     "output_type": "display_data"
    }
   ],
   "source": [
    "w1=1\n",
    "w2=1.5\n",
    "# e_range = np.arange(0,0.5,0.005): couldn't figure this method out :(\n",
    "e=0\n",
    "N=int(0.5/0.005)+1\n",
    "freq1=np.zeros(N)\n",
    "freq2=np.zeros(N)\n",
    "emat=np.zeros(N)\n",
    "for i in range(N):\n",
    "    e = i*0.005\n",
    "    A = np.array([[0,1,0,0],\n",
    "              [(-(w1**2)-e),0,e,0],\n",
    "              [0,0,0,1],\n",
    "              [e,0,(-(w2**2)-e),0]])\n",
    "    eigvals, eigvecs = np.linalg.eig(A)\n",
    "    freq1[i]=eigvals[0].imag\n",
    "    freq2[i]=eigvals[2].imag\n",
    "    emat[i]=e\n",
    "\n",
    "plt.plot(emat,freq1,label=\"Frequency 1\")\n",
    "plt.plot(emat,freq2,label=\"Frequency 2\")\n",
    "plt.plot(emat,abs(freq1-freq2),label=\"Absolute Frequency Difference\")\n",
    "plt.xlabel('ε')\n",
    "plt.ylabel('Frequency')\n",
    "plt.legend(loc=\"best\")\n",
    "print(f\"Eigenvectors = {eigvecs}\")"
   ]
  },
  {
   "cell_type": "markdown",
   "id": "c03212e2",
   "metadata": {},
   "source": [
    "Within this range, the difference in the two frequencies becomes minimal between 0.1 and 0.2 but continues to increase afterwards. This suggests that the two will never converge."
   ]
  },
  {
   "cell_type": "markdown",
   "id": "3a3d5457",
   "metadata": {},
   "source": [
    "**(e)** At what value of $\\epsilon$ will the frequencies of the coupled system be equal for $\\omega_1 = 1$ and $\\omega_2 = 1.5$?"
   ]
  },
  {
   "cell_type": "markdown",
   "id": "e2a354c0",
   "metadata": {},
   "source": [
    "They will not, due to freqency 1 being unstable (grows exponentially)(known from wave form in plot) while frequency 2 is stable (shrinks exponentially)(also known by wave form in plot)."
   ]
  },
  {
   "cell_type": "markdown",
   "id": "f16ea1ca",
   "metadata": {},
   "source": [
    "**(f)** At what value of $\\epsilon$ will the frequencies of the coupled system be equal for generic $\\omega1$ and $ω2$?"
   ]
  },
  {
   "cell_type": "markdown",
   "id": "cd45d409",
   "metadata": {},
   "source": [
    "At no value of $\\epsilon$ will the two systems be equal for generic $\\omega_1$ and $\\omega_2$, as the only point where this could occur would be if $\\epsilon, \\omega_1, \\omega_1$ were all equal to 0. So no generic $\\omega$ (thus not 0) would allow for this."
   ]
  },
  {
   "cell_type": "markdown",
   "id": "b3a4170c",
   "metadata": {},
   "source": [
    "---\n",
    "## Exercise 2-6:\n",
    "Consider the following nonlinear ODE:\n",
    "$$\\frac{dx}{dt} = x^2$$"
   ]
  },
  {
   "cell_type": "markdown",
   "id": "c4ecbf0d",
   "metadata": {},
   "source": [
    "**(a)** Find the solution x(t) using any method you prefer."
   ]
  },
  {
   "cell_type": "markdown",
   "id": "9a46402d",
   "metadata": {},
   "source": [
    "by integrating both sides with respect to t <br>\n",
    "$x(t)=\\frac{1}{c_1-t}$ where c is a constant"
   ]
  },
  {
   "cell_type": "markdown",
   "id": "3e9db0e2",
   "metadata": {},
   "source": [
    "**(b)** Solve for y(x) using a series expansion. <br>\n",
    "Show that a simple Taylor series will not work. <br> \n",
    "Then try a series that includes negative powers of x"
   ]
  },
  {
   "cell_type": "markdown",
   "id": "057e6636",
   "metadata": {},
   "source": [
    "assuming: $y(x) = C_0 + C_1x + C_2x^2 + C_3x^3 + C_4x^4...$ <br>\n",
    "$\\dot{y}= C_1 + 2C_2x + 3C_3x^2 + 4C_4x^3...$ <br>\n",
    "$\\dot{y}x^2= C_1x^2 + 2C_2x^3 + 3C_3x^4 + 4C_4x^5...$ <br>\n",
    "does not apply"
   ]
  },
  {
   "cell_type": "markdown",
   "id": "93cb3d3f",
   "metadata": {},
   "source": [
    "trying: $y(x)=C_{-3}x^{-3} + C_{-2}x^{-2} + C_{-1}x^{-1} + C_0 + C_1x + C_2x^2 + ...$ <br>\n",
    "$\\dot{y}(x)=-3C_{-3}x^{-4} -2C_{-2}x^{-3} -C_{-1}x^{-2} + C_1 + 2C_2x + ...$ <br>\n",
    "$\\dot{y}(x)x^2=-3C_{-3}x^{-2} -2C_{-2}x^{-1} -C_{-1} + C_1x^2 + 2C_2x^3 + ...$ <br>\n",
    "$y(x)=\\displaystyle\\sum_{n=\\infty}^\\infty -nC_{-n}x^{-(n+1)}$"
   ]
  }
 ],
 "metadata": {
  "kernelspec": {
   "display_name": "Python 3",
   "language": "python",
   "name": "python3"
  },
  "language_info": {
   "codemirror_mode": {
    "name": "ipython",
    "version": 3
   },
   "file_extension": ".py",
   "mimetype": "text/x-python",
   "name": "python",
   "nbconvert_exporter": "python",
   "pygments_lexer": "ipython3",
   "version": "3.8.8"
  }
 },
 "nbformat": 4,
 "nbformat_minor": 5
}
