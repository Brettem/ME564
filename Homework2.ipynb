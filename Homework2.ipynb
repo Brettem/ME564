{
 "cells": [
  {
   "cell_type": "code",
   "execution_count": 1,
   "id": "2fe6eda1",
   "metadata": {},
   "outputs": [],
   "source": [
    "import matplotlib.pyplot as plt\n",
    "import numpy as np\n",
    "import pandas as pd\n",
    "plt.style.use('ggplot')"
   ]
  },
  {
   "cell_type": "markdown",
   "id": "2cbfb403",
   "metadata": {},
   "source": [
    "# **M E 564 Au 2022**\n",
    "# Homework 2"
   ]
  },
  {
   "cell_type": "markdown",
   "id": "ce7e8701",
   "metadata": {},
   "source": [
    "### __Equations__:\n",
    "$(fg)'=fg'+gf'$ <br> $((f(x))^n)'=n(f(x))^{n-1}\\cdot f'(x)$ <br> $(f(g(x))'=f'(g(x))g'(x)$ <br> $\\frac{dz}{dt}=\\frac{\\partial z}{\\partial x} \\cdot \\frac{dx}{dt} + \\frac{\\partial z}{\\partial y} \\cdot \\frac{dy}{dt}$ <br> $f(x) = f(0) + f'(0)x + \\frac{f''(0)}{2!}x^2 + \\frac{f^{(3)}(0)}{3!}x^3 + ... + \\frac{f^{(n)}(0)}{n!}x^n + ... $ *Maclaurin Series* <br> $e^{i\\phi}=\\cos{\\phi}+i\\sin{\\phi}$ *Euler's Formula* <br><br>"
   ]
  },
  {
   "cell_type": "markdown",
   "id": "274e27d1",
   "metadata": {},
   "source": [
    "## Exercise 2-1:\n",
    "Please solve the following differential equation (by hand) and describe the longtime behavior of the system:"
   ]
  },
  {
   "cell_type": "markdown",
   "id": "5b4f4259",
   "metadata": {},
   "source": [
    "(a) $\\ddot{x}+4\\dot{x}+3x=0$ where $x(0)=0$ and $\\dot{x}(0)=4$ <br> \n",
    "\n",
    "Trying $x(t)=e^{\\lambda t}$ so $\\dot{x}(t)=\\lambda e^{\\lambda t}$ and $\\ddot{x}(t)=\\lambda^2 e^{\\lambda t}$ <br>\n",
    "\n",
    "$\\lambda^2 e^{\\lambda t} + 4\\lambda e^{\\lambda t} + 3e^{\\lambda t} = 0 = (\\lambda^2 + 4\\lambda + 3)e^{\\lambda t} =$ *Characteristic Equation* <br>\n",
    ">$\\lambda_1 = -3, \\lambda_2 = -1$ <br>\n",
    "\n",
    "$x(t) = C_1 e^{\\lambda_1 t} + C_2 e^{\\lambda_2 t} = C_1 e^{-3t} + C_2 e^{-1t}$ <br>\n",
    ">$x(0) = C_1 + C_2 = 0$ \n",
    "\n",
    "$\\dot{x}(t) = \\lambda_1 C_1 e^{\\lambda_1 t} + \\lambda_2 C_2 e^{\\lambda_2 t} = -3 C_1 e^{-3t} - C_2 e^{-1t}$\n",
    ">$\\dot{x}(0) = -3 C_1 - C_2 = 4 $\n",
    ">>$C_1 = -2, C_2 = 2 $ \n",
    "\n",
    "$x(t) = -2 e^{-3t} + 2 e^{-1t}$\n",
    "\n",
    "Since all exponents are negative, this equation is 'stable' and will decay to 0 for all time."
   ]
  },
  {
   "cell_type": "markdown",
   "id": "539abd85",
   "metadata": {},
   "source": [
    "(b) $\\ddot{x}-4x=0$ where $x(0)=4$ and $\\dot{x}(0)=-4$ <br> \n",
    "\n",
    "Trying $x(t)=e^{\\lambda t}$ so $\\dot{x}(t)=\\lambda e^{\\lambda t}$ and $\\ddot{x}(t)=\\lambda^2 e^{\\lambda t}$ <br>"
   ]
  },
  {
   "cell_type": "markdown",
   "id": "83c2edb5",
   "metadata": {},
   "source": [
    "$\\lambda^2 e^{\\lambda t} - 4 e^{\\lambda t} = 0 = (\\lambda^2 - 4)e^{\\lambda t} =$ *Characteristic Equation* <br>\n",
    ">$\\lambda_1 = 2, \\lambda_2 = -2$ <br>"
   ]
  },
  {
   "cell_type": "markdown",
   "id": "10290679",
   "metadata": {},
   "source": [
    "$x(t) = C_1 e^{\\lambda_1 t} + C_2 e^{\\lambda_2 t} = C_1 e^{2t} + C_2 e^{-2t}$ <br>\n",
    ">$x(0) = C_1 + C_2 = 4$"
   ]
  },
  {
   "cell_type": "markdown",
   "id": "60b0f9ce",
   "metadata": {},
   "source": [
    "$\\dot{x}(t) = \\lambda_1 C_1 e^{\\lambda_1 t} + \\lambda_2 C_2 e^{\\lambda_2 t} = 2 C_1 e^{2t} - 2 C_2 e^{-2t}$\n",
    ">$\\dot{x}(0) = 2 C_1 - 2 C_2 = -4 $\n",
    ">>$C_1 = 1, C_2 = 3$"
   ]
  },
  {
   "cell_type": "markdown",
   "id": "c4f4cbe0",
   "metadata": {},
   "source": [
    "$x(t) = 2 e^{2t} - 6 e^{-2t}$"
   ]
  },
  {
   "cell_type": "markdown",
   "id": "d586e17d",
   "metadata": {},
   "source": [
    "Since at least one exponent is positive, this equation is 'unstable' and will increase to inifinity for all time."
   ]
  },
  {
   "cell_type": "markdown",
   "id": "2acd3f58",
   "metadata": {},
   "source": [
    "## Exercise 2-2:\n",
    "Write down the second-order differential equation $\\ddot{x} + K_1\\dot{x} + K_2x = 0$ that\n",
    "has eigenvalues $\\lambda = C$ and $\\lambda = D$. If the solution is $x(t) = Ae^{Ct} + Be^{Dt}$, what are the initial\n",
    "conditions?"
   ]
  },
  {
   "cell_type": "markdown",
   "id": "238b873c",
   "metadata": {},
   "source": [
    "Trying $x(t)=e^{\\lambda t}$ so $\\dot{x}(t)=\\lambda e^{\\lambda t}$ and $\\ddot{x}(t)=\\lambda^2 e^{\\lambda t}$ <br>"
   ]
  },
  {
   "cell_type": "markdown",
   "id": "9fdeaac0",
   "metadata": {},
   "source": [
    "$\\lambda^2 e^{\\lambda t} + K_1 \\lambda e^{\\lambda t} + K_2 e^{\\lambda t} = 0 = (\\lambda^2 + K_1 \\lambda + K_2)e^{\\lambda t} =$ *Characteristic Equation* <br>\n",
    ">*given* $\\lambda = C, \\lambda = D$\n",
    ">> $C=\\frac{-K_1+\\sqrt{K_1^2 - 4K_2}}{2}$ $D=\\frac{-K_1-\\sqrt{K_1^2 - 4K_2}}{2}$\n",
    "\n",
    ">> $K_2=-K_1\\lambda - \\lambda^2$ where any $\\lambda$ can be $C$ or $D$"
   ]
  },
  {
   "cell_type": "markdown",
   "id": "f29e0525",
   "metadata": {},
   "source": [
    "$x(t) = C_1 e^{\\lambda_1 t} + C_2 e^{\\lambda_2 t} = C_1 e^{Ct} + C_2 e^{Dt} == A e^{Ct} + B e^{Dt}$ <br>\n",
    ">$x(0) = C_1 + C_2 = ? == A + B$"
   ]
  },
  {
   "cell_type": "markdown",
   "id": "d9825062",
   "metadata": {},
   "source": [
    "$\\dot{x}(t) = \\lambda_1 C_1 e^{\\lambda_1 t} + \\lambda_2 C_2 e^{\\lambda_2 t} = C C_1 e^{Ct} + D C_2 e^{Dt} == C A e^{Ct} + D B e^{Dt}$\n",
    ">$\\dot{x}(0) = C C_1 + D C_2 = ?? == C A + D B$\n",
    ">>*given* $C_1 = A, C_2 = B$"
   ]
  },
  {
   "cell_type": "markdown",
   "id": "1283c772",
   "metadata": {},
   "source": [
    "## Exercise 2-3:\n",
    "Consider the following ODE: $$\\ddot{x} + 7\\dot{x} + 10x = 0$$"
   ]
  },
  {
   "cell_type": "markdown",
   "id": "c71e3ef4",
   "metadata": {},
   "source": [
    "(a) Solve this ODE by substituting in $x(t) = e^{\\lambda t}$ and finding roots of the characteristic polynomial."
   ]
  },
  {
   "cell_type": "markdown",
   "id": "a0ebf106",
   "metadata": {},
   "source": [
    "$x(t)=e^{\\lambda t}$ so $\\dot{x}(t)=\\lambda e^{\\lambda t}$ and $\\ddot{x}(t)=\\lambda^2 e^{\\lambda t}$"
   ]
  },
  {
   "cell_type": "markdown",
   "id": "89e54cd8",
   "metadata": {},
   "source": [
    "$\\lambda^2 e^{\\lambda t} + 7 \\lambda e^{\\lambda t} + 10 e^{\\lambda t} = 0 = (\\lambda^2 + 7 \\lambda + 10) e^{\\lambda t}$ = *Characteristic Equation*\n",
    ">$\\lambda = -5, \\lambda = -2$"
   ]
  },
  {
   "cell_type": "markdown",
   "id": "a24e46db",
   "metadata": {},
   "source": [
    "$x(t) = C_1 e^{\\lambda t} + C_2 e^{\\lambda t} = C_1 e^{-5t} + C_2 e^{-2t} $"
   ]
  },
  {
   "cell_type": "markdown",
   "id": "74c3ef13",
   "metadata": {},
   "source": [
    "$\\dot{x}(t) = \\lambda C_1 e^{\\lambda t} + \\lambda C_2 e^{\\lambda t} = -5 C_1 e^{-5t} - 2 C_2 e^{-2t} $"
   ]
  },
  {
   "cell_type": "markdown",
   "id": "9b2bbe1d",
   "metadata": {},
   "source": [
    "(b) Now, write this second order ODE as a system of first order equations, $\\dot{x} = Ax$, by introducing a new variable $v = \\dot{x}$. Solve the linear system by decomposing the matrix $A$ into the eigenvalues and eigenvectors. \n",
    "\n",
    "Hint: computing the inverse of the matrix of eigenvectors is easier if they are not normalized (i.e., both of my eigenvectors have integer entries)."
   ]
  },
  {
   "cell_type": "markdown",
   "id": "f042bcdf",
   "metadata": {},
   "source": [
    "Using $v=\\dot{x}$\n",
    ">$\\dot{v}+7v+10=0$\n",
    "\n",
    "$\\frac{d}{dt}\\begin{bmatrix} v \\\\ \\dot{v}\\end{bmatrix} = A \\begin{bmatrix} v \\\\ \\dot{v}\\end{bmatrix}$\n",
    "\n",
    "$A = \\begin{bmatrix} 0 & 1 \\\\ -a_0 & -a_1  \\end{bmatrix} = \\begin{bmatrix} 0 & 1 \\\\ -10 & -7 \\end{bmatrix}$\n",
    "\n",
    "$A-\\lambda I = \\begin{bmatrix} -\\lambda & 1 \\\\ -10 & -\\lambda-7 \\end{bmatrix}$\n",
    "\n",
    "$det(A-\\lambda I) =$ *Characteristic Equation* $= \\lambda^2+7\\lambda+10$"
   ]
  },
  {
   "cell_type": "markdown",
   "id": "525152b4",
   "metadata": {},
   "source": [
    "(c) For both of the solutions in parts (a) and (b), write down the specific solution for an initial condition $x(0) = 1$ and $\\dot{x}(0) = 1$."
   ]
  },
  {
   "cell_type": "markdown",
   "id": "26142c7e",
   "metadata": {},
   "source": [
    "*given* $x(0) = 1$ and $\\dot{x}(0) = 1$\n",
    "\n",
    "*Characteristic Equation* $= \\lambda^2+7\\lambda+10$\n",
    ">$\\lambda = -5, \\lambda = -2$"
   ]
  },
  {
   "cell_type": "markdown",
   "id": "8c3a1dad",
   "metadata": {},
   "source": [
    "$x(t) = C_1 e^{\\lambda t} + C_2 e^{\\lambda t} = C_1 e^{-5t} + C_2 e^{-2t}$\n",
    ">$x(0) = C_1 + C_2 = 1$"
   ]
  },
  {
   "cell_type": "markdown",
   "id": "4e51eb7c",
   "metadata": {},
   "source": [
    "$\\dot{x}(t) = \\lambda C_1 e^{\\lambda t} + \\lambda C_2 e^{\\lambda t} = -5 C_1 e^{-5t} - 2 C_2 e^{-2t} $\n",
    ">$\\dot{x}(0) = \\lambda C_1 + \\lambda C_2 = -5 C_1 - 2 C_2 = 1$\n",
    ">>$C_1=-1, C_2=2$\n",
    "\n",
    "$x(t) = -1 e^{-5t} + 2 e^{-2t}$"
   ]
  },
  {
   "cell_type": "markdown",
   "id": "2227fb62",
   "metadata": {},
   "source": [
    "(d) What is the long-time behavior of this system?"
   ]
  },
  {
   "cell_type": "markdown",
   "id": "0caa6994",
   "metadata": {},
   "source": [
    "Since all exponents are negative, this equation is 'stable' and will decay to 0 for all time."
   ]
  },
  {
   "cell_type": "markdown",
   "id": "048d4535",
   "metadata": {},
   "source": [
    "## Exercise 2-4:\n",
    "Write the following ODE as a system of first order ODEs: $$\\dddot{x} + 2\\ddot{x} - \\dot{x} - 2x = 0$$\n",
    "What are the eigenvalues of the system of ODEs? (it is OK to use a computer).\n",
    "\n",
    "What are the long-time behaviors of this system for the following two different initial conditions:\n",
    "\n",
    "$\\begin{bmatrix} x(0) \\\\ \\dot{x}(0) \\\\ \\ddot{x}(0) \\end{bmatrix} = \\begin{bmatrix} 1 \\\\ 1 \\\\ 1 \\end{bmatrix}$ and $\\begin{bmatrix} x(0) \\\\ \\dot{x}(0) \\\\ \\ddot{x}(0) \\end{bmatrix} = \\begin{bmatrix} 1 \\\\ -1 \\\\ 1 \\end{bmatrix}$\n",
    "\n",
    "Please plot the response for t=0:0.01:10 using a Runge-Kutta 4th order integrator for each\n",
    "of these initial conditions. Do the plots agree with your calculations? Please briefly explain your\n",
    "observations in 1-2 sentences."
   ]
  },
  {
   "cell_type": "code",
   "execution_count": null,
   "id": "96005094",
   "metadata": {},
   "outputs": [],
   "source": []
  }
 ],
 "metadata": {
  "kernelspec": {
   "display_name": "Python 3",
   "language": "python",
   "name": "python3"
  },
  "language_info": {
   "codemirror_mode": {
    "name": "ipython",
    "version": 3
   },
   "file_extension": ".py",
   "mimetype": "text/x-python",
   "name": "python",
   "nbconvert_exporter": "python",
   "pygments_lexer": "ipython3",
   "version": "3.8.8"
  }
 },
 "nbformat": 4,
 "nbformat_minor": 5
}
