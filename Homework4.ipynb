{
 "cells": [
  {
   "cell_type": "code",
   "execution_count": 2,
   "id": "c87d56c6",
   "metadata": {},
   "outputs": [],
   "source": [
    "import numpy as np\n",
    "import pandas as pd\n",
    "import matplotlib.pyplot as plt\n",
    "plt.style.use('ggplot')\n",
    "from scipy.integrate import solve_ivp\n",
    "import sympy as sp"
   ]
  },
  {
   "cell_type": "markdown",
   "id": "7d8a19ce",
   "metadata": {},
   "source": [
    "# **M E 564 Au 2022**\n",
    "# Homework 4"
   ]
  },
  {
   "cell_type": "markdown",
   "id": "90c422ff",
   "metadata": {},
   "source": [
    "### __Equation Bank__:\n",
    "(not all equations used in each homework) <br>\n",
    "$(fg)'=fg'+gf'$ <br> $((f(x))^n)'=n(f(x))^{n-1}\\cdot f'(x)$ <br> $(f(g(x))'=f'(g(x))g'(x)$ <br> $\\frac{dz}{dt}=\\frac{\\partial z}{\\partial x} \\cdot \\frac{dx}{dt} + \\frac{\\partial z}{\\partial y} \\cdot \\frac{dy}{dt}$ <br> $f(x) = f(0) + f'(0)x + \\frac{f''(0)}{2!}x^2 + \\frac{f^{(3)}(0)}{3!}x^3 + ... + \\frac{f^{(n)}(0)}{n!}x^n + ... $ *Maclaurin Series* <br> $e^{i\\phi}=\\cos{\\phi}+i\\sin{\\phi}$ *Euler's Formula* <br><br>"
   ]
  },
  {
   "cell_type": "markdown",
   "id": "0f4ef3a1",
   "metadata": {},
   "source": [
    "---\n",
    "## Exercise 4-1:\n"
   ]
  },
  {
   "cell_type": "markdown",
   "id": "d856f7ea",
   "metadata": {},
   "source": [
    "---\n",
    "## Exercise 4-2:\n"
   ]
  },
  {
   "cell_type": "markdown",
   "id": "91f6de42",
   "metadata": {},
   "source": [
    "---\n",
    "## Exercise 4-3:\n"
   ]
  },
  {
   "cell_type": "code",
   "execution_count": 28,
   "id": "59791ba3",
   "metadata": {},
   "outputs": [
    {
     "name": "stdout",
     "output_type": "stream",
     "text": [
      "\n",
      "Where [sigma, beta, rho] = [10.00, 2.67, 5.00] \n",
      " and [x, y, z] = [(0, 0, 0)]\n",
      "Eigenvalues = [-13.88152731   2.88152731  -2.66666667]\n",
      "\n",
      "\n",
      "Where [sigma, beta, rho] = [10.00, 2.67, 10.00] \n",
      " and [x, y, z] = [(0, 0, 0)]\n",
      "Eigenvalues = [-16.4658561    5.4658561   -2.66666667]\n",
      "\n",
      "\n",
      "Where [sigma, beta, rho] = [10.00, 2.67, 15.00] \n",
      " and [x, y, z] = [(0, 0, 0)]\n",
      "Eigenvalues = [-18.54798835   7.54798835  -2.66666667]\n",
      "\n",
      "\n",
      "Where [sigma, beta, rho] = [10.00, 2.67, 20.00] \n",
      " and [x, y, z] = [(0, 0, 0)]\n",
      "Eigenvalues = [-20.34082208   9.34082208  -2.66666667]\n",
      "\n",
      "\n",
      "Where [sigma, beta, rho] = [10.00, 2.67, 25.00] \n",
      " and [x, y, z] = [(0, 0, 0)]\n",
      "Eigenvalues = [-21.93928222  10.93928222  -2.66666667]\n",
      "\n",
      "\n",
      "Where [sigma, beta, rho] = [10.00, 2.67, 30.00] \n",
      " and [x, y, z] = [(0, 0, 0)]\n",
      "Eigenvalues = [-23.39553017  12.39553017  -2.66666667]\n",
      "\n",
      "\n",
      "Where [sigma, beta, rho] = [10.00, 2.67, 35.00] \n",
      " and [x, y, z] = [(0, 0, 0)]\n",
      "Eigenvalues = [-24.7418814   13.7418814   -2.66666667]\n",
      "\n",
      "\n",
      "Where [sigma, beta, rho] = [10.00, 2.67, 40.00] \n",
      " and [x, y, z] = [(0, 0, 0)]\n",
      "Eigenvalues = [-26.          15.          -2.66666667]\n",
      "\n",
      "\n",
      "Where [sigma, beta, rho] = [10.00, 2.67, 45.00] \n",
      " and [x, y, z] = [(0, 0, 0)]\n",
      "Eigenvalues = [-27.18524844  16.18524844  -2.66666667]\n",
      "\n",
      "\n",
      "Where [sigma, beta, rho] = [10.00, 2.67, 50.00] \n",
      " and [x, y, z] = [(0, 0, 0)]\n",
      "Eigenvalues = [-28.30898946  17.30898946  -2.66666667]\n",
      "\n",
      "\n",
      "Where [sigma, beta, rho] = [10.00, 2.67, 5.00] \n",
      " and [x, y, z] = [(3.265986323710904, 3.265986323710904, 4)]\n",
      "Eigenvalues = [-11.80921801+0.j          -0.92872433+4.14758424j\n",
      "  -0.92872433-4.14758424j]\n",
      "\n",
      "\n",
      "Where [sigma, beta, rho] = [10.00, 2.67, 10.00] \n",
      " and [x, y, z] = [(4.898979485566356, 4.898979485566356, 9)]\n",
      "Eigenvalues = [-12.47567248+0.j          -0.5954971 +6.17416092j\n",
      "  -0.5954971 -6.17416092j]\n",
      "\n",
      "\n",
      "Where [sigma, beta, rho] = [10.00, 2.67, 15.00] \n",
      " and [x, y, z] = [(6.110100926607786, 6.110100926607786, 14)]\n",
      "Eigenvalues = [-12.96628046+0.j          -0.3501931 +7.58041077j\n",
      "  -0.3501931 -7.58041077j]\n",
      "\n",
      "\n",
      "Where [sigma, beta, rho] = [10.00, 2.67, 20.00] \n",
      " and [x, y, z] = [(7.118052168020874, 7.118052168020874, 19)]\n",
      "Eigenvalues = [-13.35708312+0.j          -0.15479177+8.70866846j\n",
      "  -0.15479177-8.70866846j]\n",
      "\n",
      "\n",
      "Where [sigma, beta, rho] = [10.00, 2.67, 25.00] \n",
      " and [x, y, z] = [(8.0, 8.0, 24)]\n",
      "Eigenvalues = [-1.36825089e+01+0.j          7.92110753e-03+9.67212654j\n",
      "  7.92110753e-03-9.67212654j]\n",
      "\n",
      "\n",
      "Where [sigma, beta, rho] = [10.00, 2.67, 30.00] \n",
      " and [x, y, z] = [(8.793937305515279, 8.793937305515279, 29)]\n",
      "Eigenvalues = [-13.96140336 +0.j           0.14736835+10.52425233j\n",
      "   0.14736835-10.52425233j]\n",
      "\n",
      "\n",
      "Where [sigma, beta, rho] = [10.00, 2.67, 35.00] \n",
      " and [x, y, z] = [(9.521904571390467, 9.521904571390467, 34)]\n",
      "Eigenvalues = [-14.20531845 +0.j           0.26932589+11.29509556j\n",
      "   0.26932589-11.29509556j]\n",
      "\n",
      "\n",
      "Where [sigma, beta, rho] = [10.00, 2.67, 40.00] \n",
      " and [x, y, z] = [(10.198039027185569, 10.198039027185569, 39)]\n",
      "Eigenvalues = [-14.4218948  +0.j           0.37761407+12.00343958j\n",
      "   0.37761407-12.00343958j]\n",
      "\n",
      "\n",
      "Where [sigma, beta, rho] = [10.00, 2.67, 45.00] \n",
      " and [x, y, z] = [(10.83205120618128, 10.83205120618128, 44)]\n",
      "Eigenvalues = [-14.61647158 +0.j           0.47490246+12.66190866j\n",
      "   0.47490246-12.66190866j]\n",
      "\n",
      "\n",
      "Where [sigma, beta, rho] = [10.00, 2.67, 50.00] \n",
      " and [x, y, z] = [(11.430952132988164, 11.430952132988164, 49)]\n",
      "Eigenvalues = [-14.79293838 +0.j           0.56313585+13.27944826j\n",
      "   0.56313585-13.27944826j]\n",
      "\n",
      "\n",
      "Where [sigma, beta, rho] = [10.00, 2.67, 5.00] \n",
      " and [x, y, z] = [(-3.265986323710904, -3.265986323710904, 4)]\n",
      "Eigenvalues = [-11.80921801+0.j          -0.92872433+4.14758424j\n",
      "  -0.92872433-4.14758424j]\n",
      "\n",
      "\n",
      "Where [sigma, beta, rho] = [10.00, 2.67, 10.00] \n",
      " and [x, y, z] = [(-4.898979485566356, -4.898979485566356, 9)]\n",
      "Eigenvalues = [-12.47567248+0.j          -0.5954971 +6.17416092j\n",
      "  -0.5954971 -6.17416092j]\n",
      "\n",
      "\n",
      "Where [sigma, beta, rho] = [10.00, 2.67, 15.00] \n",
      " and [x, y, z] = [(-6.110100926607786, -6.110100926607786, 14)]\n",
      "Eigenvalues = [-12.96628046+0.j          -0.3501931 +7.58041077j\n",
      "  -0.3501931 -7.58041077j]\n",
      "\n",
      "\n",
      "Where [sigma, beta, rho] = [10.00, 2.67, 20.00] \n",
      " and [x, y, z] = [(-7.118052168020874, -7.118052168020874, 19)]\n",
      "Eigenvalues = [-13.35708312+0.j          -0.15479177+8.70866846j\n",
      "  -0.15479177-8.70866846j]\n",
      "\n",
      "\n",
      "Where [sigma, beta, rho] = [10.00, 2.67, 25.00] \n",
      " and [x, y, z] = [(-8.0, -8.0, 24)]\n",
      "Eigenvalues = [-1.36825089e+01+0.j          7.92110753e-03+9.67212654j\n",
      "  7.92110753e-03-9.67212654j]\n",
      "\n",
      "\n",
      "Where [sigma, beta, rho] = [10.00, 2.67, 30.00] \n",
      " and [x, y, z] = [(-8.793937305515279, -8.793937305515279, 29)]\n",
      "Eigenvalues = [-13.96140336 +0.j           0.14736835+10.52425233j\n",
      "   0.14736835-10.52425233j]\n",
      "\n",
      "\n",
      "Where [sigma, beta, rho] = [10.00, 2.67, 35.00] \n",
      " and [x, y, z] = [(-9.521904571390467, -9.521904571390467, 34)]\n",
      "Eigenvalues = [-14.20531845 +0.j           0.26932589+11.29509556j\n",
      "   0.26932589-11.29509556j]\n",
      "\n",
      "\n",
      "Where [sigma, beta, rho] = [10.00, 2.67, 40.00] \n",
      " and [x, y, z] = [(-10.198039027185569, -10.198039027185569, 39)]\n",
      "Eigenvalues = [-14.4218948  +0.j           0.37761407+12.00343958j\n",
      "   0.37761407-12.00343958j]\n",
      "\n",
      "\n",
      "Where [sigma, beta, rho] = [10.00, 2.67, 45.00] \n",
      " and [x, y, z] = [(-10.83205120618128, -10.83205120618128, 44)]\n",
      "Eigenvalues = [-14.61647158 +0.j           0.47490246+12.66190866j\n",
      "   0.47490246-12.66190866j]\n",
      "\n",
      "\n",
      "Where [sigma, beta, rho] = [10.00, 2.67, 50.00] \n",
      " and [x, y, z] = [(-11.430952132988164, -11.430952132988164, 49)]\n",
      "Eigenvalues = [-14.79293838 +0.j           0.56313585+13.27944826j\n",
      "   0.56313585-13.27944826j]\n",
      "\n"
     ]
    }
   ],
   "source": [
    "sigma = 10\n",
    "beta = 8/3\n",
    "rho = [5,10,15,20,25,30,35,40,45,50]\n",
    "\n",
    "# x_dot = sigma*(y-x)\n",
    "# y_dot = x*(rho-z)-y\n",
    "# z_dot = x*y-beta*z\n",
    "\n",
    "def chaotic_lorenz(sigma,beta,rho,x,y,z):\n",
    "    A = np.array([[-sigma,sigma,0],\n",
    "                  [rho-z,-1,-x],\n",
    "                  [y,x,-beta]])\n",
    "    eigvals, eigvecs = np.linalg.eig(A)\n",
    "    print(f\"\\nWhere [sigma, beta, rho] = [{sigma:.2f}, {beta:.2f}, {rho:.2f}] \\n and [x, y, z] = [{x, y, z}]\")\n",
    "    print(f\"Eigenvalues = {eigvals}\\n\")\n",
    "#         print(f\"Eigenvectors = {eigvecs}\")\n",
    "        \n",
    "for r in rho:\n",
    "    chaotic_lorenz(sigma,\n",
    "                   beta,\n",
    "                   r,\n",
    "                   0,\n",
    "                   0,\n",
    "                   0)\n",
    "for r in rho:\n",
    "    chaotic_lorenz(sigma,\n",
    "                   beta,\n",
    "                   r,\n",
    "                   np.sqrt(beta*(r-1)),\n",
    "                   np.sqrt(beta*(r-1)),\n",
    "                   r-1)\n",
    "for r in rho:\n",
    "    chaotic_lorenz(sigma,\n",
    "                   beta,\n",
    "                   r,\n",
    "                   -np.sqrt(beta*(r-1)),\n",
    "                   -np.sqrt(beta*(r-1)),\n",
    "                   r-1)"
   ]
  },
  {
   "cell_type": "markdown",
   "id": "1e74649e",
   "metadata": {},
   "source": [
    "---\n",
    "## Exercise 3-4:\n",
    "Consider the following physical system of a bead constrained to move in the\n",
    "potential field $V(x)$. Note: there are no equations given, and so you must use physical intuition\n",
    "* Please sketch the phase portrait (position $x$ vs. velocity $v$) for the Please try to make your\n",
    "sketch as accurate as possible using as much information about the potential as you can. You\n",
    "may draw the phase portrait without any damping (i.e., no friction)."
   ]
  },
  {
   "cell_type": "markdown",
   "id": "6137155d",
   "metadata": {},
   "source": [
    "SEE ATTACHED PDF"
   ]
  },
  {
   "cell_type": "markdown",
   "id": "3a091c74",
   "metadata": {},
   "source": [
    "* Comment briefly on how the plot will change if we turn on friction. (you do not need to\n",
    "sketch anything)"
   ]
  },
  {
   "cell_type": "markdown",
   "id": "069e741b",
   "metadata": {},
   "source": [
    "The plot will loose all cyclical patterns and loops to be replaced by spirals, as energy would be able to \"leave\" the system. The result of this is that a bead placed at any point within the field would fall towards a fixed point until at rest."
   ]
  },
  {
   "cell_type": "markdown",
   "id": "b37cef83",
   "metadata": {},
   "source": [
    "* How many fixed points does the system have and what is their stability?"
   ]
  },
  {
   "cell_type": "markdown",
   "id": "1573f701",
   "metadata": {},
   "source": [
    "This system has 5 fixed points (antinodes). 2 of which are saddle points (peaks, unstable equilibrium), and 3 of which are stable centers (troughs, stable equilibrium)."
   ]
  },
  {
   "cell_type": "markdown",
   "id": "51fef27f",
   "metadata": {},
   "source": [
    "* What can we say about the eigenvalues of the linearization around each point?"
   ]
  },
  {
   "cell_type": "markdown",
   "id": "71204d40",
   "metadata": {},
   "source": [
    "If $\\lambda$ is equal to $\\pm N$ (where $N$ is any real number)(and can be combined with any imaginary number), this will be equal to a saddle point. If $\\lambda$ is equal to $\\pm iN$, this will be a stable center. \n",
    "\n",
    "Though not seen in this plot, if $\\lambda$ is equal to $+N$, this will be an unstable point (source) and if $\\lambda$ is equal to $-N$, this will be a stable point (sink)."
   ]
  },
  {
   "cell_type": "code",
   "execution_count": null,
   "id": "aa371274",
   "metadata": {},
   "outputs": [],
   "source": []
  }
 ],
 "metadata": {
  "kernelspec": {
   "display_name": "Python 3",
   "language": "python",
   "name": "python3"
  },
  "language_info": {
   "codemirror_mode": {
    "name": "ipython",
    "version": 3
   },
   "file_extension": ".py",
   "mimetype": "text/x-python",
   "name": "python",
   "nbconvert_exporter": "python",
   "pygments_lexer": "ipython3",
   "version": "3.8.8"
  }
 },
 "nbformat": 4,
 "nbformat_minor": 5
}
