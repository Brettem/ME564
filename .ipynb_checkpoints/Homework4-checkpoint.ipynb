{
 "cells": [
  {
   "cell_type": "code",
   "execution_count": 1,
   "id": "38bae9c4",
   "metadata": {},
   "outputs": [],
   "source": [
    "import numpy as np\n",
    "import pandas as pd\n",
    "import matplotlib.pyplot as plt\n",
    "plt.style.use('ggplot')\n",
    "from scipy.integrate import solve_ivp"
   ]
  },
  {
   "cell_type": "markdown",
   "id": "764aa213",
   "metadata": {},
   "source": [
    "# **M E 564 Au 2022**\n",
    "# Homework 3"
   ]
  },
  {
   "cell_type": "markdown",
   "id": "d62685b6",
   "metadata": {},
   "source": [
    "### __Equation Bank__:\n",
    "(not all equations used in each homework) <br>\n",
    "$(fg)'=fg'+gf'$ <br> $((f(x))^n)'=n(f(x))^{n-1}\\cdot f'(x)$ <br> $(f(g(x))'=f'(g(x))g'(x)$ <br> $\\frac{dz}{dt}=\\frac{\\partial z}{\\partial x} \\cdot \\frac{dx}{dt} + \\frac{\\partial z}{\\partial y} \\cdot \\frac{dy}{dt}$ <br> $f(x) = f(0) + f'(0)x + \\frac{f''(0)}{2!}x^2 + \\frac{f^{(3)}(0)}{3!}x^3 + ... + \\frac{f^{(n)}(0)}{n!}x^n + ... $ *Maclaurin Series* <br> $e^{i\\phi}=\\cos{\\phi}+i\\sin{\\phi}$ *Euler's Formula* <br><br>"
   ]
  },
  {
   "cell_type": "markdown",
   "id": "012a9cf5",
   "metadata": {},
   "source": [
    "---\n",
    "## Exercise 3-1:\n",
    "Please solve the following differential equation (with initial conditions) for the\n",
    "three cases below (by hand!). You may use whatever method you find simplest. You may check your work on a computer\n",
    "$$\\ddot{x}+5\\dot{x}+6x=f(t)$$\n",
    "$$x(0)=\\frac{1}{2}$$\n",
    "$$\\dot{x}(0)=-1$$"
   ]
  },
  {
   "cell_type": "markdown",
   "id": "ba138108",
   "metadata": {},
   "source": [
    "**(a)** For $f(t) = 0$. Note that this is just the unforced ODE $\\ddot{x} + 5 \\dot{x} + 6x = 0$."
   ]
  },
  {
   "cell_type": "markdown",
   "id": "e5a219ec",
   "metadata": {},
   "source": [
    "Trying $x(t)=e^{\\lambda t}$ so $\\dot{x}(t)=\\lambda e^{\\lambda t}$ and $\\ddot{x}(t)=\\lambda^2 e^{\\lambda t}$ <br>\n",
    "\n",
    "$\\lambda^2 e^{\\lambda t}+5\\lambda e^{\\lambda t}+6e^{\\lambda t}=0=$ *Characteristic Equation* <br>\n",
    ">$\\lambda_1 = -3, \\lambda_2 = -2$ <br>\n",
    "\n",
    "$x(t) = C_1 e^{\\lambda_1 t} + C_2 e^{\\lambda_2 t} = C_1 e^{-3t} + C_2 e^{-2t}$ <br>\n",
    ">$x(0) = C_1 + C_2 = \\frac{1}{2}$ \n",
    "\n",
    "$\\dot{x}(t) = \\lambda_1 C_1 e^{\\lambda_1 t} + \\lambda_2 C_2 e^{\\lambda_2 t} = -3 C_1 e^{-3t} - 2C_2 e^{-2t}$\n",
    ">$\\dot{x}(0) = -3 C_1 - 2C_2 = -1 $\n",
    ">>$C_1 = 0, C_2 = \\frac{1}{2} $ \n",
    "\n",
    "$x(t) = \\frac{1}{2} e^{-2t}$ *General Solution*"
   ]
  },
  {
   "cell_type": "markdown",
   "id": "3a062e27",
   "metadata": {},
   "source": [
    "**(b)** For $f(t) = e^{−t}$\n"
   ]
  },
  {
   "cell_type": "markdown",
   "id": "8c7d5c93",
   "metadata": {},
   "source": [
    "Trying $x_p(t)=ke^{-t}$ so $\\dot{x}_p(t)=-ke^{-t}$ and $\\ddot{x}_p(t)=ke^{-t}$ <br>\n",
    "\n",
    "$ke^{-t}-5ke^{-t}+6ke^{-t}=e^{-t}=$ *Particular Characteristic Equation* <br>\n",
    ">$k = \\frac{1}{2}$ <br>\n",
    "\n",
    "$x_p(t) = \\frac{1}{2}e^{-t}-5\\frac{1}{2}e^{-t}+6\\frac{1}{2}e^{-t}=\\frac{1}{2}e^{-t}$ <br>\n",
    ">$x(t) = C_1 e^{-3t} + C_2 e^{-2t} + \\frac{1}{2}e^{-t} = e^{-t}$ <br>\n",
    ">>$x(0) = C_1 + C_2 + \\frac{1}{2} = \\frac{1}{2}$\n",
    "\n",
    ">$\\dot{x}(t) = -3C_1 e^{-3t} - 2C_2 e^{-2t} - \\frac{1}{2}e^{-t}$ <br>\n",
    ">>$\\dot{x}(0) = -3C_1 - 2C_2 - \\frac{1}{2}=-1$\n",
    ">>>$C_1 = \\frac{1}{2}, C_2 = -\\frac{1}{2} $ \n",
    "\n",
    "$x(t) = \\frac{1}{2} e^{-3t} -\\frac{1}{2} e^{-2t} + \\frac{1}{2}e^{-t}$ *General Solution*"
   ]
  },
  {
   "cell_type": "markdown",
   "id": "42e0ca01",
   "metadata": {},
   "source": [
    "**(c)** For $f(t) = 50 cos(t)$. <br>Hint: try a particular solution $x_p = A cos(t) + B sin(t)$ and solve for $A$ and $B$."
   ]
  },
  {
   "cell_type": "markdown",
   "id": "04f45362",
   "metadata": {},
   "source": [
    "Trying $x_p(t)=Acos(t)+Bsin(t)$ so $\\dot{x}_p(t)=-Asin(t)+Bcos(t)$ and $\\ddot{x}_p(t)=-Acos(t)-Bsin(t)$ <br>\n",
    "\n",
    "$-Acos(t)-Bsin(t)-5Asin(t)+5Bcos(t)-6Acos(t)+6Bsin(t)=(-B-5A+6B)sin(t)+(-A+5B+6A)cos(t)=(-5A+5B)sin(t)+(5B+5A)cos(t)=50cos(t)=$ *Particular Characteristic Equation* <br>\n",
    ">$A = B = 5$ <br>\n",
    "\n",
    "$x_p(t) = 5sin(t)+5cos(t)$ <br>\n",
    ">$x(t) = C_1 e^{-3t} + C_2 e^{-2t} + 5sin(t)+5cos(t) = 50cos(t)$ <br>\n",
    ">>$x(0) = C_1 + C_2 + 5 = \\frac{1}{2}$\n",
    "\n",
    ">$\\dot{x}(t) = -3C_1 e^{-3t} - 2C_2 e^{-2t} + 5cos(t)-5sin(t)$ <br>\n",
    ">>$\\dot{x}(0) = -3C_1 - 2C_2 + 5=-1$\n",
    ">>>$C_1 = 15, C_2 = -19.5 $ \n",
    "\n",
    "$x(t) = 15 e^{-3t} - 19.5 e^{-2t} + 5sin(t)+5cos(t)$ *General Solution*"
   ]
  },
  {
   "cell_type": "markdown",
   "id": "3c3d2fc7",
   "metadata": {},
   "source": [
    "---\n",
    "## Exercise 3-2:\n",
    "Consider the following nonlinear, forced ODE: $$\\ddot{x}+\\delta\\dot{x}+\\beta x+\\alpha x^3 = \\gamma cos(\\omega t)$$ For $\\beta=-1,\\alpha=1$ and $\\gamma=0$, we may write this as a system of first order differential equations as $$\\dot{x}=v$$ $$\\dot{v}=-\\delta v+x-x^3$$ You may assume that $\\delta \\geq 0$"
   ]
  },
  {
   "cell_type": "markdown",
   "id": "e5aefe84",
   "metadata": {},
   "source": [
    "**(a)** Write down all of the fixed points of the system of equations."
   ]
  },
  {
   "cell_type": "markdown",
   "id": "54c4f5cc",
   "metadata": {},
   "source": [
    "$\\frac{d}{dx}\\begin{bmatrix} x \\\\ v \\end{bmatrix} = \\begin{bmatrix} v \\\\ -\\delta v+x-x^3 \\end{bmatrix}$\n",
    "\n",
    "$v = 0, x=1,-1,0$ \n",
    "\n",
    "$\\begin{bmatrix} 1 \\\\ 0 \\end{bmatrix}, \\begin{bmatrix} -1 \\\\ 0 \\end{bmatrix}, \\begin{bmatrix} 0 \\\\ 0 \\end{bmatrix}$"
   ]
  },
  {
   "cell_type": "markdown",
   "id": "93ec5178",
   "metadata": {},
   "source": [
    "**(b)** For each fixed point, write down the linearized equations near the fixed point."
   ]
  },
  {
   "cell_type": "markdown",
   "id": "71027f9b",
   "metadata": {
    "tags": []
   },
   "source": [
    "$\\begin{bmatrix} 0 & 1 \\\\ 1-3x^2 & -\\delta \\end{bmatrix} = $ *Jacobian*\n",
    "\n",
    "$\\begin{bmatrix} 0 & 1 \\\\ -2 & -\\delta \\end{bmatrix}$ for $\\begin{bmatrix} 1 \\\\ 0 \\end{bmatrix}$ \n",
    "\n",
    "$\\begin{bmatrix} 0 & 1 \\\\ -2 & -\\delta \\end{bmatrix}$ for $\\begin{bmatrix} -1 \\\\ 0 \\end{bmatrix}$ \n",
    "\n",
    "$\\begin{bmatrix} 0 & 1 \\\\ 1 & -\\delta \\end{bmatrix}$ for $\\begin{bmatrix} 0 \\\\ 0 \\end{bmatrix}$ "
   ]
  },
  {
   "cell_type": "markdown",
   "id": "ba275e6f",
   "metadata": {},
   "source": [
    "**(c)** For each linearized system, set δ = 0 and determine what type of fixed point it is (source,\n",
    "sink, center, spiral, saddle, etc.) and what the stability is."
   ]
  },
  {
   "cell_type": "markdown",
   "id": "e29826e4",
   "metadata": {},
   "source": [
    "$\\begin{bmatrix} 0 & 1 \\\\ -2 & -\\delta \\end{bmatrix} => \\begin{bmatrix} 0 & 1 \\\\ -2 & 0 \\end{bmatrix} => \\begin{bmatrix} -\\lambda & 1 \\\\ -2 & -\\lambda \\end{bmatrix} => det\\begin{bmatrix} -\\lambda & 1 \\\\ -2 & -\\lambda \\end{bmatrix} = (-\\lambda)(-\\lambda)+2 = 0 => \\lambda = \\pm 2i \\therefore $ *Stable Center*\n",
    "\n",
    "$\\begin{bmatrix} 0 & 1 \\\\ -2 & -\\delta \\end{bmatrix} => \\begin{bmatrix} 0 & 1 \\\\ -2 & 0 \\end{bmatrix} => \\begin{bmatrix} -\\lambda & 1 \\\\ -2 & -\\lambda \\end{bmatrix} => det\\begin{bmatrix} -\\lambda & 1 \\\\ -2 & -\\lambda \\end{bmatrix} = (-\\lambda)(-\\lambda)+2 = 0 => \\lambda = \\pm 2i \\therefore $ *Stable Center*\n",
    "\n",
    "$\\begin{bmatrix} 0 & 1 \\\\ 1 & -\\delta \\end{bmatrix} => \\begin{bmatrix} 0 & 1 \\\\ 1 & 0 \\end{bmatrix} => \\begin{bmatrix} -\\lambda & 1 \\\\ 1 & -\\lambda \\end{bmatrix} => det\\begin{bmatrix} -\\lambda & 1 \\\\ 1 & -\\lambda \\end{bmatrix} = (-\\lambda)(-\\lambda)-1 = 0 => \\lambda = \\pm 1 \\therefore $ *Saddle Point*"
   ]
  },
  {
   "cell_type": "markdown",
   "id": "df43d83d",
   "metadata": {},
   "source": [
    "**(d)** Describe in words how these fixed points will change if δ is a small positive number"
   ]
  },
  {
   "cell_type": "markdown",
   "id": "c16e55b8",
   "metadata": {},
   "source": [
    "If $\\delta$ is a small positive number, this will cause a dampening force to be present. The result of this being that the stable center points will cause a spiral sink. \n",
    "\n",
    "$\\begin{bmatrix} 0 & 1 \\\\ -2 & \\delta-\\lambda \\end{bmatrix} = 0$ <br>\n",
    "$-\\lambda(\\delta-\\lambda)+2=0$ <br>\n",
    "$-\\delta\\lambda + \\lambda^2 +2 =0$ <br>\n",
    "Assume $\\delta = 0.01$ <br>\n",
    "$\\lambda^2-0.01\\lambda+2=0$ <br>\n",
    "$\\lambda_{1,2}=\\frac{0.01\\pm\\sqrt{0.01^2-4(1)(2)}}{2}$ <br>\n",
    "$\\lambda\\approx0.005\\pm\\sqrt{8i}$ <br>\n",
    "*Small positive real part results in spiral sink.*"
   ]
  },
  {
   "cell_type": "markdown",
   "id": "e9e8f3df",
   "metadata": {},
   "source": [
    "**(e)** Please sketch the phase portrait (i.e. trajectories in the x-v plane) for the system with a\n",
    "small positive δ. Pick one of the stable fixed points and sketch the set of initial conditions\n",
    "that will eventually end up near this fixed point."
   ]
  },
  {
   "cell_type": "markdown",
   "id": "bd64336e",
   "metadata": {},
   "source": [
    "SEE ATTACHED PDF"
   ]
  },
  {
   "cell_type": "markdown",
   "id": "c59e7464",
   "metadata": {},
   "source": [
    "---\n",
    "## Exercise 3-3:\n",
    "Consider the schematic of the single pendulum.\n",
    "The kinetic energy T and potential energy V may be written as:\n",
    "$$T=\\frac{1}{2}ml^2\\dot{\\theta}^2$$\n",
    "$$V=-gmlcos(\\theta)$$\n",
    "The Lagrangian $L$ is given by $L = T − V$ , and the Euler-Lagrange equations for the motion of\n",
    "the pendulum are given by the following second order differential equation in $\\theta$:\n",
    "$$\\frac{d}{dt}\\frac{\\delta L}{\\delta \\dot{\\theta}} - \\frac{\\delta L}{\\delta \\theta} = 0$$\n",
    "Write down the second order ODE using the specific $T$ and $V$ defined above. Please write this\n",
    "ODE in the form $\\dot{delta{\\theta}} = f(\\theta, \\dot{\\theta})$. Notice that this ODE is not linear!!\n",
    "\n",
    "**Now you may assume that $l = m = g = 1$ for the remainder of the problem.**\n",
    "\n",
    "You may still suspend variables to get a system of two first order (nonlinear) ODEs by writing\n",
    "the ODE as:\n",
    "\n",
    "$$\\dot{\\theta}=\\omega$$\n",
    "$$\\dot{\\omega}=f(\\theta,\\omega)$$"
   ]
  },
  {
   "cell_type": "markdown",
   "id": "1932f0e2",
   "metadata": {},
   "source": [
    "*Equations:* <br>\n",
    "$L=\\frac{1}{2}ml^2\\dot{\\theta}^2-gmlcos(\\theta)$\n",
    "$C=T-V => \\frac{d}{dt}\\frac{\\delta L}{\\delta \\dot{\\theta}} - \\frac{\\delta L}{\\delta \\theta} = 0$ <br>\n",
    "$\\frac{\\delta L}{\\delta \\dot{\\theta}}=ml^2\\dot{\\theta}$ <br>\n",
    "$\\frac{\\delta L}{\\delta \\theta}= -gmlsin(\\theta)$ <br>\n",
    "$\\frac{d}{dt}\\frac{\\delta L}{\\delta \\dot{\\theta}} = ml^2\\ddot\\theta$ <br>\n",
    "$\\dot{L}=ml^2\\ddot{\\theta}+gmlsin(\\theta)=0$ <br>\n",
    "$\\ddot{\\theta}=\\frac{-gsin(\\theta)}{l}$"
   ]
  },
  {
   "cell_type": "markdown",
   "id": "ca426862",
   "metadata": {},
   "source": [
    "**(a)** What are the fixed points of this system where all derivatives are zero?"
   ]
  },
  {
   "cell_type": "markdown",
   "id": "43b37b96",
   "metadata": {},
   "source": [
    "$\\dot{\\theta}=0, -sin(\\theta)=0$ <br>\n",
    "$\\begin{bmatrix} 0 \\\\ 0 \\end{bmatrix}, \\begin{bmatrix} n\\pi \\\\ 0 \\end{bmatrix}$ *where $n$ can be any integer* <br>"
   ]
  },
  {
   "cell_type": "markdown",
   "id": "fa0b8673",
   "metadata": {},
   "source": [
    "**(b)** Write down the linearized equations in a neighborhood of each fixed point and determine the\n",
    "linear stability. You may formally linearize the nonlinear ODE or you may use a small angle\n",
    "approximation for sin(θ); the two approaches are equivalent\n",
    "\n",
    "**and**\n",
    "\n",
    "**(c)** Compute the eigenvalues and eigenvectors for each fixed point."
   ]
  },
  {
   "cell_type": "markdown",
   "id": "8ad6d71d",
   "metadata": {},
   "source": [
    "$\\frac{d}{dt}\\begin{bmatrix} \\theta \\\\ \\omega \\end{bmatrix} = \\begin{bmatrix} \\omega \\\\ -sin(\\theta) \\end{bmatrix}$ <br>\n",
    "$\\begin{bmatrix} 0 & 1 \\\\ -cos(\\theta) & 0 \\end{bmatrix} $ when $ \\begin{bmatrix} 0 \\\\ 0 \\end{bmatrix} => \\begin{bmatrix} 0 & 1 \\\\ -1 & 0 \\end{bmatrix} => \\begin{bmatrix} -\\lambda & 1 \\\\ -1 & -\\lambda \\end{bmatrix} = 0$\n",
    ">$\\lambda = \\pm i \\therefore$ *stable center* \n",
    "\n",
    "$\\begin{bmatrix} 0 & 1 \\\\ -cos(\\theta) & 0 \\end{bmatrix} $ when $ \\begin{bmatrix} \\pi \\\\ 0 \\end{bmatrix} => \\begin{bmatrix} 0 & 1 \\\\ 1 & 0 \\end{bmatrix} => \\begin{bmatrix} -\\lambda & 1 \\\\ 1 & -\\lambda \\end{bmatrix} = 0$\n",
    ">$\\lambda = \\pm1 \\therefore$ *saddle point*\n",
    "\n",
    "$\\begin{bmatrix} -i & 1 \\\\ -1 & -i \\end{bmatrix} \\begin{bmatrix} x_1 \\\\ x_2 \\end{bmatrix} = \\begin{bmatrix} 0 \\\\ 0 \\end{bmatrix} $\n",
    ">$-ix_1+x_2=0$\n",
    ">>$x_2=ix_1$\n",
    "\n",
    ">$-x_1-x_2i=0$\n",
    ">>$-x_1+x_2=0$\n",
    "\n",
    ">>>$x_2=x_1$\n",
    "\n",
    ">$\\zeta_1=\\begin{bmatrix} i \\\\ 1 \\end{bmatrix}$ <br> $\\zeta_2=\\begin{bmatrix} -i \\\\ 1 \\end{bmatrix}$\n",
    "\n",
    "$\\begin{bmatrix} -1 & 1 \\\\ -1 & -1 \\end{bmatrix} \\begin{bmatrix} x_1 \\\\ x_2 \\end{bmatrix} = \\begin{bmatrix} 0 \\\\ 0 \\end{bmatrix} $\n",
    ">$\\zeta_1=\\begin{bmatrix} 1 \\\\ 1 \\end{bmatrix}$ <br> $\\zeta_2=\\begin{bmatrix} -1 \\\\ 1 \\end{bmatrix}$"
   ]
  },
  {
   "cell_type": "markdown",
   "id": "091dd72d",
   "metadata": {},
   "source": [
    "**(d)** Sketch the linearized phase portrait in a small neighborhood around each of these fixed points."
   ]
  },
  {
   "cell_type": "markdown",
   "id": "c2f28491",
   "metadata": {},
   "source": [
    "SEE ATTACHED PDF"
   ]
  },
  {
   "cell_type": "markdown",
   "id": "f7dcb50b",
   "metadata": {},
   "source": [
    "**(e)** How do the above answers match your physical intuition about the fixed points of this system?"
   ]
  },
  {
   "cell_type": "markdown",
   "id": "99831e5a",
   "metadata": {},
   "source": [
    "This matches up with my intuition as (with no friction) the pendulum will be stable only when perfectly vertical with $\\omega=0$. Specifically the pendulum will be fully stable when at rest vertical down $(0,0)$, and meta-stable when at rest vertical up $(n\\pi,0)$ unless perturbed. "
   ]
  },
  {
   "cell_type": "markdown",
   "id": "ad9d090b",
   "metadata": {},
   "source": [
    "---\n",
    "## Exercise 3-4:\n",
    "Consider the following physical system of a bead constrained to move in the\n",
    "potential field $V(x)$. Note: there are no equations given, and so you must use physical intuition\n",
    "* Please sketch the phase portrait (position $x$ vs. velocity $v$) for the Please try to make your\n",
    "sketch as accurate as possible using as much information about the potential as you can. You\n",
    "may draw the phase portrait without any damping (i.e., no friction)."
   ]
  },
  {
   "cell_type": "markdown",
   "id": "fae07041",
   "metadata": {},
   "source": [
    "SEE ATTACHED PDF"
   ]
  },
  {
   "cell_type": "markdown",
   "id": "d3e5bc99",
   "metadata": {},
   "source": [
    "* Comment briefly on how the plot will change if we turn on friction. (you do not need to\n",
    "sketch anything)"
   ]
  },
  {
   "cell_type": "markdown",
   "id": "c135733c",
   "metadata": {},
   "source": [
    "The plot will loose all cyclical patterns and loops to be replaced by spirals, as energy would be able to \"leave\" the system. The result of this is that a bead placed at any point within the field would fall towards a fixed point until at rest."
   ]
  },
  {
   "cell_type": "markdown",
   "id": "ddd25acf",
   "metadata": {},
   "source": [
    "* How many fixed points does the system have and what is their stability?"
   ]
  },
  {
   "cell_type": "markdown",
   "id": "23e2124d",
   "metadata": {},
   "source": [
    "This system has 5 fixed points (antinodes). 2 of which are saddle points (peaks, unstable equilibrium), and 3 of which are stable centers (troughs, stable equilibrium)."
   ]
  },
  {
   "cell_type": "markdown",
   "id": "9f7c262f",
   "metadata": {},
   "source": [
    "* What can we say about the eigenvalues of the linearization around each point?"
   ]
  },
  {
   "cell_type": "markdown",
   "id": "68dcf13a",
   "metadata": {},
   "source": [
    "If $\\lambda$ is equal to $\\pm N$ (where $N$ is any real number)(and can be combined with any imaginary number), this will be equal to a saddle point. If $\\lambda$ is equal to $\\pm iN$, this will be a stable center. \n",
    "\n",
    "Though not seen in this plot, if $\\lambda$ is equal to $+N$, this will be an unstable point (source) and if $\\lambda$ is equal to $-N$, this will be a stable point (sink)."
   ]
  },
  {
   "cell_type": "code",
   "execution_count": null,
   "id": "3c74c2bf",
   "metadata": {},
   "outputs": [],
   "source": []
  }
 ],
 "metadata": {
  "kernelspec": {
   "display_name": "Python 3",
   "language": "python",
   "name": "python3"
  },
  "language_info": {
   "codemirror_mode": {
    "name": "ipython",
    "version": 3
   },
   "file_extension": ".py",
   "mimetype": "text/x-python",
   "name": "python",
   "nbconvert_exporter": "python",
   "pygments_lexer": "ipython3",
   "version": "3.8.8"
  }
 },
 "nbformat": 4,
 "nbformat_minor": 5
}
